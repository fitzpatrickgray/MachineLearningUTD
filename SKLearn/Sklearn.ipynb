{
  "nbformat": 4,
  "nbformat_minor": 0,
  "metadata": {
    "colab": {
      "provenance": [],
      "collapsed_sections": []
    },
    "kernelspec": {
      "name": "python3",
      "display_name": "Python 3"
    },
    "language_info": {
      "name": "python"
    }
  },
  "cells": [
    {
      "cell_type": "markdown",
      "source": [
        "# SKlearn"
      ],
      "metadata": {
        "id": "xtYmUb6Ftm6z"
      }
    },
    {
      "cell_type": "code",
      "source": [
        "# Loading data\n",
        "import pandas as pd\n",
        "import numpy as np\n",
        "df = pd.read_csv('/content/Auto.csv')\n",
        "print(df.head())\n",
        "print('\\nDimensions of data frame:', df.shape)"
      ],
      "metadata": {
        "id": "87zLygBhtvI7",
        "colab": {
          "base_uri": "https://localhost:8080/"
        },
        "outputId": "0f14907e-6676-41fe-d202-38acd544ca66"
      },
      "execution_count": 107,
      "outputs": [
        {
          "output_type": "stream",
          "name": "stdout",
          "text": [
            "    mpg  cylinders  displacement  horsepower  weight  acceleration  year  \\\n",
            "0  18.0          8         307.0         130    3504          12.0  70.0   \n",
            "1  15.0          8         350.0         165    3693          11.5  70.0   \n",
            "2  18.0          8         318.0         150    3436          11.0  70.0   \n",
            "3  16.0          8         304.0         150    3433          12.0  70.0   \n",
            "4  17.0          8         302.0         140    3449           NaN  70.0   \n",
            "\n",
            "   origin                       name  \n",
            "0       1  chevrolet chevelle malibu  \n",
            "1       1          buick skylark 320  \n",
            "2       1         plymouth satellite  \n",
            "3       1              amc rebel sst  \n",
            "4       1                ford torino  \n",
            "\n",
            "Dimensions of data frame: (392, 9)\n"
          ]
        }
      ]
    },
    {
      "cell_type": "code",
      "source": [
        "# Data formatting and printing the new dimensions\n",
        "df = df.dropna()\n",
        "print('Dimensions of data frame after removing NAs',df.shape)"
      ],
      "metadata": {
        "colab": {
          "base_uri": "https://localhost:8080/"
        },
        "id": "T33tSWEmFV2w",
        "outputId": "5238543e-e7f9-47ae-f4f7-8c29e1b75f4c"
      },
      "execution_count": 108,
      "outputs": [
        {
          "output_type": "stream",
          "name": "stdout",
          "text": [
            "Dimensions of data frame after removing NAs (389, 9)\n"
          ]
        }
      ]
    },
    {
      "cell_type": "code",
      "source": [
        "# Convert data to compute correct type and then describe\n",
        "df = df.astype({'mpg':'int','displacement':'int','horsepower':'int','weight':'int','acceleration':'int','year':'int','name':'category'})\n",
        "df['mpg'].describe()"
      ],
      "metadata": {
        "colab": {
          "base_uri": "https://localhost:8080/"
        },
        "id": "yUnQ6Y3Cw0-1",
        "outputId": "9b850442-6c76-413c-e6c2-2cf715b02621"
      },
      "execution_count": 109,
      "outputs": [
        {
          "output_type": "execute_result",
          "data": {
            "text/plain": [
              "count    389.000000\n",
              "mean      23.326478\n",
              "std        7.756862\n",
              "min        9.000000\n",
              "25%       17.000000\n",
              "50%       23.000000\n",
              "75%       29.000000\n",
              "max       46.000000\n",
              "Name: mpg, dtype: float64"
            ]
          },
          "metadata": {},
          "execution_count": 109
        }
      ]
    },
    {
      "cell_type": "code",
      "source": [
        "df['weight'].describe()"
      ],
      "metadata": {
        "colab": {
          "base_uri": "https://localhost:8080/"
        },
        "id": "DjF9pdiW1mWn",
        "outputId": "63e8596e-d030-49a9-973d-5e776a11f228"
      },
      "execution_count": 110,
      "outputs": [
        {
          "output_type": "execute_result",
          "data": {
            "text/plain": [
              "count     389.000000\n",
              "mean     2973.871465\n",
              "std       849.289375\n",
              "min      1613.000000\n",
              "25%      2223.000000\n",
              "50%      2800.000000\n",
              "75%      3613.000000\n",
              "max      5140.000000\n",
              "Name: weight, dtype: float64"
            ]
          },
          "metadata": {},
          "execution_count": 110
        }
      ]
    },
    {
      "cell_type": "code",
      "source": [
        "df['year'].describe()"
      ],
      "metadata": {
        "colab": {
          "base_uri": "https://localhost:8080/"
        },
        "id": "OqQOIM3X1meW",
        "outputId": "3078e65d-c524-4079-c252-867f27ce9b36"
      },
      "execution_count": 111,
      "outputs": [
        {
          "output_type": "execute_result",
          "data": {
            "text/plain": [
              "count    389.000000\n",
              "mean      76.025707\n",
              "std        3.660088\n",
              "min       70.000000\n",
              "25%       73.000000\n",
              "50%       76.000000\n",
              "75%       79.000000\n",
              "max       82.000000\n",
              "Name: year, dtype: float64"
            ]
          },
          "metadata": {},
          "execution_count": 111
        }
      ]
    },
    {
      "cell_type": "markdown",
      "source": [
        "**Range** <br/>\n",
        "The range of each of these columns follows, mpgs is 9:46, weight is 1613:5140 and year is is 70:82"
      ],
      "metadata": {
        "id": "Zmf9iB-MEu2e"
      }
    },
    {
      "cell_type": "markdown",
      "source": [],
      "metadata": {
        "id": "Q2rpYoiNADEm"
      }
    },
    {
      "cell_type": "code",
      "source": [
        "df.cylinders = df.cylinders.astype('category').cat.codes\n",
        "df.origin = df.origin.astype('category')\n",
        "df.dtypes"
      ],
      "metadata": {
        "colab": {
          "base_uri": "https://localhost:8080/"
        },
        "id": "mW6GOzTX9SG_",
        "outputId": "dc9df1f5-cb74-4317-9cb3-4b34fd2fac80"
      },
      "execution_count": 112,
      "outputs": [
        {
          "output_type": "execute_result",
          "data": {
            "text/plain": [
              "mpg                int64\n",
              "cylinders           int8\n",
              "displacement       int64\n",
              "horsepower         int64\n",
              "weight             int64\n",
              "acceleration       int64\n",
              "year               int64\n",
              "origin          category\n",
              "name            category\n",
              "dtype: object"
            ]
          },
          "metadata": {},
          "execution_count": 112
        }
      ]
    },
    {
      "cell_type": "code",
      "source": [
        "import numpy as np\n",
        "df['mpg_high'] = np.where(df['mpg'] > 23.326478, 1, 0)\n",
        "df.drop('mpg', inplace=True, axis=1)\n",
        "df.drop('name', inplace=True, axis=1)\n",
        "print(df.head())"
      ],
      "metadata": {
        "colab": {
          "base_uri": "https://localhost:8080/"
        },
        "id": "MRnW2fVuF06K",
        "outputId": "ccc4e581-a099-4f1f-905f-df4ff844be1b"
      },
      "execution_count": 113,
      "outputs": [
        {
          "output_type": "stream",
          "name": "stdout",
          "text": [
            "   cylinders  displacement  horsepower  weight  acceleration  year origin  \\\n",
            "0          4           307         130    3504            12    70      1   \n",
            "1          4           350         165    3693            11    70      1   \n",
            "2          4           318         150    3436            11    70      1   \n",
            "3          4           304         150    3433            12    70      1   \n",
            "6          4           454         220    4354             9    70      1   \n",
            "\n",
            "   mpg_high  \n",
            "0         0  \n",
            "1         0  \n",
            "2         0  \n",
            "3         0  \n",
            "6         0  \n"
          ]
        }
      ]
    },
    {
      "cell_type": "code",
      "source": [
        "import seaborn as sns\n",
        "from matplotlib import pyplot as pl\n",
        "\n",
        "sns.catplot(data=df,x='mpg_high',kind='count')"
      ],
      "metadata": {
        "colab": {
          "base_uri": "https://localhost:8080/",
          "height": 386
        },
        "id": "8gY4yv-0Gb6y",
        "outputId": "aa4ec961-be7f-4a4d-8a08-c755db82264e"
      },
      "execution_count": 114,
      "outputs": [
        {
          "output_type": "execute_result",
          "data": {
            "text/plain": [
              "<seaborn.axisgrid.FacetGrid at 0x7f5707822d50>"
            ]
          },
          "metadata": {},
          "execution_count": 114
        },
        {
          "output_type": "display_data",
          "data": {
            "text/plain": [
              "<Figure size 360x360 with 1 Axes>"
            ],
            "image/png": "[encoded data removed]"
          },
          "metadata": {
            "needs_background": "light"
          }
        }
      ]
    },
    {
      "cell_type": "code",
      "source": [
        "sns.relplot(data=df,x='horsepower',y='weight',hue='mpg_high')"
      ],
      "metadata": {
        "colab": {
          "base_uri": "https://localhost:8080/",
          "height": 386
        },
        "id": "xylYpmlutg3K",
        "outputId": "c9b0b3ac-c2e7-447c-aaa9-c084cee894e1"
      },
      "execution_count": 115,
      "outputs": [
        {
          "output_type": "execute_result",
          "data": {
            "text/plain": [
              "<seaborn.axisgrid.FacetGrid at 0x7f57078a5c50>"
            ]
          },
          "metadata": {},
          "execution_count": 115
        },
        {
          "output_type": "display_data",
          "data": {
            "text/plain": [
              "<Figure size 417.25x360 with 1 Axes>"
            ],
            "image/png": "[encoded data removed]"
          },
          "metadata": {
            "needs_background": "light"
          }
        }
      ]
    },
    {
      "cell_type": "code",
      "source": [
        "sns.boxplot(data=df,x='mpg_high',y='weight')"
      ],
      "metadata": {
        "colab": {
          "base_uri": "https://localhost:8080/",
          "height": 297
        },
        "id": "FwJ0Tc6Atg8w",
        "outputId": "e204434a-b1f8-43d9-e26d-5021253118ce"
      },
      "execution_count": 116,
      "outputs": [
        {
          "output_type": "execute_result",
          "data": {
            "text/plain": [
              "<matplotlib.axes._subplots.AxesSubplot at 0x7f5705862d50>"
            ]
          },
          "metadata": {},
          "execution_count": 116
        },
        {
          "output_type": "display_data",
          "data": {
            "text/plain": [
              "<Figure size 432x288 with 1 Axes>"
            ],
            "image/png": "[encoded data removed]"
          },
          "metadata": {
            "needs_background": "light"
          }
        }
      ]
    },
    {
      "cell_type": "markdown",
      "source": [
        "One could assume from a given dataset that an even amount of samples would appear on either side of the mean. But with this dataset we see that there are in fact more cars with a lower mpg than the average. From the second graph we can observe that the less efficient cars are typically heavier and have higher horsepower. Inefficient cars also had a higher variance as seen from the third graph, explaining the uneven split relative to the mean."
      ],
      "metadata": {
        "id": "l4kTLSiqMHbo"
      }
    },
    {
      "cell_type": "code",
      "source": [
        "from sklearn.model_selection import train_test_split\n",
        "\n",
        "X = df.loc[:, ['cylinders', 'displacement', 'horsepower', 'weight', 'acceleration', 'year', 'origin']]\n",
        "y = df.mpg_high\n",
        "\n",
        "X_train, X_test, y_train, y_test = train_test_split(X, y, test_size=0.2, random_state=1234)\n",
        "print('Dimensions of train: ',X_train.shape)\n",
        "print('Dimensions of test: ',X_test.shape)"
      ],
      "metadata": {
        "id": "QDQyhQOFuEbK",
        "colab": {
          "base_uri": "https://localhost:8080/"
        },
        "outputId": "0bca9aa8-ff0b-4fd2-8235-dcfc827a7f7b"
      },
      "execution_count": 117,
      "outputs": [
        {
          "output_type": "stream",
          "name": "stdout",
          "text": [
            "Dimensions of train:  (311, 7)\n",
            "Dimensions of test:  (78, 7)\n"
          ]
        }
      ]
    },
    {
      "cell_type": "code",
      "source": [
        "from sklearn.linear_model import LogisticRegression\n",
        "from sklearn.metrics import classification_report, confusion_matrix\n",
        "\n",
        "lr = LogisticRegression(solver='lbfgs', random_state=1234)\n",
        "lr.fit(X_train, y_train)\n",
        "lr.score(X_train, y_train)\n",
        "\n",
        "pred = lr.predict(X_test)\n",
        "\n",
        "print('Classification Report:\\n',classification_report(y_test,pred),'\\nConfusion Matrix:')"
      ],
      "metadata": {
        "colab": {
          "base_uri": "https://localhost:8080/"
        },
        "id": "x7Ms2NxB58yP",
        "outputId": "8a6f8407-6d97-45e0-f427-289e8f291027"
      },
      "execution_count": 118,
      "outputs": [
        {
          "output_type": "stream",
          "name": "stdout",
          "text": [
            "Classification Report:\n",
            "               precision    recall  f1-score   support\n",
            "\n",
            "           0       0.98      0.80      0.88        51\n",
            "           1       0.72      0.96      0.83        27\n",
            "\n",
            "    accuracy                           0.86        78\n",
            "   macro avg       0.85      0.88      0.85        78\n",
            "weighted avg       0.89      0.86      0.86        78\n",
            " \n",
            "Confusion Matrix:\n"
          ]
        }
      ]
    },
    {
      "cell_type": "code",
      "source": [
        "from sklearn.tree import DecisionTreeClassifier\n",
        "\n",
        "dt = DecisionTreeClassifier(random_state=1234)\n",
        "dt.fit(X_train, y_train)\n",
        "\n",
        "pred = dt.predict(X_test)\n",
        "\n",
        "print('Classification Report:\\n',classification_report(y_test,pred))"
      ],
      "metadata": {
        "colab": {
          "base_uri": "https://localhost:8080/"
        },
        "id": "QroAjBpk8Ui1",
        "outputId": "59cd3b53-b06d-4425-c4ae-a3692f90ffa9"
      },
      "execution_count": 119,
      "outputs": [
        {
          "output_type": "stream",
          "name": "stdout",
          "text": [
            "Classification Report:\n",
            "               precision    recall  f1-score   support\n",
            "\n",
            "           0       0.96      0.90      0.93        51\n",
            "           1       0.83      0.93      0.88        27\n",
            "\n",
            "    accuracy                           0.91        78\n",
            "   macro avg       0.90      0.91      0.90        78\n",
            "weighted avg       0.92      0.91      0.91        78\n",
            "\n"
          ]
        }
      ]
    },
    {
      "cell_type": "code",
      "source": [
        "from matplotlib import pyplot as plt\n",
        "import sklearn.tree\n",
        "import graphviz\n",
        "\n",
        "dotdat = tree.export_graphviz(dt, max_depth=3, out_file=None, feature_names=df.columns[:7], filled=True)\n",
        "graph = graphviz.Source(dotdat)\n",
        "graph"
      ],
      "metadata": {
        "colab": {
          "base_uri": "https://localhost:8080/",
          "height": 655
        },
        "id": "nuAp0wvg8wCf",
        "outputId": "081c07eb-c5c7-4003-b0ce-6eb2183cf7ca"
      },
      "execution_count": 120,
      "outputs": [
        {
          "output_type": "execute_result",
          "data": {
            "text/plain": [
              "<graphviz.files.Source at 0x7f5708482a50>"
            ],
            "image/svg+xml": "<?xml version=\"1.0\" encoding=\"UTF-8\" standalone=\"no\"?>\n<!DOCTYPE svg PUBLIC \"-//W3C//DTD SVG 1.1//EN\"\n \"http://www.w3.org/Graphics/SVG/1.1/DTD/svg11.dtd\">\n<!-- Generated by graphviz version 2.40.1 (20161225.0304)\n -->\n<!-- Title: Tree Pages: 1 -->\n<svg width=\"1136pt\" height=\"460pt\"\n viewBox=\"0.00 0.00 1135.50 460.00\" xmlns=\"http://www.w3.org/2000/svg\" xmlns:xlink=\"http://www.w3.org/1999/xlink\">\n<g id=\"graph0\" class=\"graph\" transform=\"scale(1 1) rotate(0) translate(4 456)\">\n<title>Tree</title>\n<polygon fill=\"#ffffff\" stroke=\"transparent\" points=\"-4,4 -4,-456 1131.5,-456 1131.5,4 -4,4\"/>\n<!-- 0 -->\n<g id=\"node1\" class=\"node\">\n<title>0</title>\n<polygon fill=\"#fffdfb\" stroke=\"#000000\" points=\"605,-452 473,-452 473,-384 605,-384 605,-452\"/>\n<text text-anchor=\"middle\" x=\"539\" y=\"-436.8\" font-family=\"Helvetica,sans-Serif\" font-size=\"14.00\" fill=\"#000000\">cylinders &lt;= 2.5</text>\n<text text-anchor=\"middle\" x=\"539\" y=\"-421.8\" font-family=\"Helvetica,sans-Serif\" font-size=\"14.00\" fill=\"#000000\">gini = 0.5</text>\n<text text-anchor=\"middle\" x=\"539\" y=\"-406.8\" font-family=\"Helvetica,sans-Serif\" font-size=\"14.00\" fill=\"#000000\">samples = 311</text>\n<text text-anchor=\"middle\" x=\"539\" y=\"-391.8\" font-family=\"Helvetica,sans-Serif\" font-size=\"14.00\" fill=\"#000000\">value = [157, 154]</text>\n</g>\n<!-- 1 -->\n<g id=\"node2\" class=\"node\">\n<title>1</title>\n<polygon fill=\"#5eafea\" stroke=\"#000000\" points=\"495,-348 349,-348 349,-280 495,-280 495,-348\"/>\n<text text-anchor=\"middle\" x=\"422\" y=\"-332.8\" font-family=\"Helvetica,sans-Serif\" font-size=\"14.00\" fill=\"#000000\">horsepower &lt;= 96.5</text>\n<text text-anchor=\"middle\" x=\"422\" y=\"-317.8\" font-family=\"Helvetica,sans-Serif\" font-size=\"14.00\" fill=\"#000000\">gini = 0.263</text>\n<text text-anchor=\"middle\" x=\"422\" y=\"-302.8\" font-family=\"Helvetica,sans-Serif\" font-size=\"14.00\" fill=\"#000000\">samples = 173</text>\n<text text-anchor=\"middle\" x=\"422\" y=\"-287.8\" font-family=\"Helvetica,sans-Serif\" font-size=\"14.00\" fill=\"#000000\">value = [27, 146]</text>\n</g>\n<!-- 0&#45;&gt;1 -->\n<g id=\"edge1\" class=\"edge\">\n<title>0&#45;&gt;1</title>\n<path fill=\"none\" stroke=\"#000000\" d=\"M500.6898,-383.9465C490.2859,-374.6986 478.911,-364.5876 468.1243,-354.9994\"/>\n<polygon fill=\"#000000\" stroke=\"#000000\" points=\"470.1956,-352.1577 460.3962,-348.13 465.5451,-357.3896 470.1956,-352.1577\"/>\n<text text-anchor=\"middle\" x=\"461.8643\" y=\"-369.3869\" font-family=\"Helvetica,sans-Serif\" font-size=\"14.00\" fill=\"#000000\">True</text>\n</g>\n<!-- 42 -->\n<g id=\"node17\" class=\"node\">\n<title>42</title>\n<polygon fill=\"#e78945\" stroke=\"#000000\" points=\"742,-348 626,-348 626,-280 742,-280 742,-348\"/>\n<text text-anchor=\"middle\" x=\"684\" y=\"-332.8\" font-family=\"Helvetica,sans-Serif\" font-size=\"14.00\" fill=\"#000000\">year &lt;= 79.5</text>\n<text text-anchor=\"middle\" x=\"684\" y=\"-317.8\" font-family=\"Helvetica,sans-Serif\" font-size=\"14.00\" fill=\"#000000\">gini = 0.109</text>\n<text text-anchor=\"middle\" x=\"684\" y=\"-302.8\" font-family=\"Helvetica,sans-Serif\" font-size=\"14.00\" fill=\"#000000\">samples = 138</text>\n<text text-anchor=\"middle\" x=\"684\" y=\"-287.8\" font-family=\"Helvetica,sans-Serif\" font-size=\"14.00\" fill=\"#000000\">value = [130, 8]</text>\n</g>\n<!-- 0&#45;&gt;42 -->\n<g id=\"edge16\" class=\"edge\">\n<title>0&#45;&gt;42</title>\n<path fill=\"none\" stroke=\"#000000\" d=\"M586.4784,-383.9465C599.7477,-374.4293 614.2915,-363.9978 628.0035,-354.163\"/>\n<polygon fill=\"#000000\" stroke=\"#000000\" points=\"630.3288,-356.8024 636.4149,-348.13 626.249,-351.1142 630.3288,-356.8024\"/>\n<text text-anchor=\"middle\" x=\"632.3531\" y=\"-369.0978\" font-family=\"Helvetica,sans-Serif\" font-size=\"14.00\" fill=\"#000000\">False</text>\n</g>\n<!-- 2 -->\n<g id=\"node3\" class=\"node\">\n<title>2</title>\n<polygon fill=\"#4ea8e8\" stroke=\"#000000\" points=\"298,-244 170,-244 170,-176 298,-176 298,-244\"/>\n<text text-anchor=\"middle\" x=\"234\" y=\"-228.8\" font-family=\"Helvetica,sans-Serif\" font-size=\"14.00\" fill=\"#000000\">weight &lt;= 2377.0</text>\n<text text-anchor=\"middle\" x=\"234\" y=\"-213.8\" font-family=\"Helvetica,sans-Serif\" font-size=\"14.00\" fill=\"#000000\">gini = 0.176</text>\n<text text-anchor=\"middle\" x=\"234\" y=\"-198.8\" font-family=\"Helvetica,sans-Serif\" font-size=\"14.00\" fill=\"#000000\">samples = 154</text>\n<text text-anchor=\"middle\" x=\"234\" y=\"-183.8\" font-family=\"Helvetica,sans-Serif\" font-size=\"14.00\" fill=\"#000000\">value = [15, 139]</text>\n</g>\n<!-- 1&#45;&gt;2 -->\n<g id=\"edge2\" class=\"edge\">\n<title>1&#45;&gt;2</title>\n<path fill=\"none\" stroke=\"#000000\" d=\"M360.4418,-279.9465C342.5883,-270.0701 322.9552,-259.2093 304.5944,-249.0522\"/>\n<polygon fill=\"#000000\" stroke=\"#000000\" points=\"306.1411,-245.908 295.6965,-244.13 302.7527,-252.0333 306.1411,-245.908\"/>\n</g>\n<!-- 27 -->\n<g id=\"node10\" class=\"node\">\n<title>27</title>\n<polygon fill=\"#f4caac\" stroke=\"#000000\" points=\"486,-244 358,-244 358,-176 486,-176 486,-244\"/>\n<text text-anchor=\"middle\" x=\"422\" y=\"-228.8\" font-family=\"Helvetica,sans-Serif\" font-size=\"14.00\" fill=\"#000000\">weight &lt;= 2695.5</text>\n<text text-anchor=\"middle\" x=\"422\" y=\"-213.8\" font-family=\"Helvetica,sans-Serif\" font-size=\"14.00\" fill=\"#000000\">gini = 0.465</text>\n<text text-anchor=\"middle\" x=\"422\" y=\"-198.8\" font-family=\"Helvetica,sans-Serif\" font-size=\"14.00\" fill=\"#000000\">samples = 19</text>\n<text text-anchor=\"middle\" x=\"422\" y=\"-183.8\" font-family=\"Helvetica,sans-Serif\" font-size=\"14.00\" fill=\"#000000\">value = [12, 7]</text>\n</g>\n<!-- 1&#45;&gt;27 -->\n<g id=\"edge9\" class=\"edge\">\n<title>1&#45;&gt;27</title>\n<path fill=\"none\" stroke=\"#000000\" d=\"M422,-279.9465C422,-271.776 422,-262.9318 422,-254.3697\"/>\n<polygon fill=\"#000000\" stroke=\"#000000\" points=\"425.5001,-254.13 422,-244.13 418.5001,-254.13 425.5001,-254.13\"/>\n</g>\n<!-- 3 -->\n<g id=\"node4\" class=\"node\">\n<title>3</title>\n<polygon fill=\"#3d9fe6\" stroke=\"#000000\" points=\"157.5,-140 38.5,-140 38.5,-72 157.5,-72 157.5,-140\"/>\n<text text-anchor=\"middle\" x=\"98\" y=\"-124.8\" font-family=\"Helvetica,sans-Serif\" font-size=\"14.00\" fill=\"#000000\">cylinders &lt;= 0.5</text>\n<text text-anchor=\"middle\" x=\"98\" y=\"-109.8\" font-family=\"Helvetica,sans-Serif\" font-size=\"14.00\" fill=\"#000000\">gini = 0.039</text>\n<text text-anchor=\"middle\" x=\"98\" y=\"-94.8\" font-family=\"Helvetica,sans-Serif\" font-size=\"14.00\" fill=\"#000000\">samples = 101</text>\n<text text-anchor=\"middle\" x=\"98\" y=\"-79.8\" font-family=\"Helvetica,sans-Serif\" font-size=\"14.00\" fill=\"#000000\">value = [2, 99]</text>\n</g>\n<!-- 2&#45;&gt;3 -->\n<g id=\"edge3\" class=\"edge\">\n<title>2&#45;&gt;3</title>\n<path fill=\"none\" stroke=\"#000000\" d=\"M189.4685,-175.9465C177.1403,-166.519 163.6391,-156.1946 150.885,-146.4415\"/>\n<polygon fill=\"#000000\" stroke=\"#000000\" points=\"152.7012,-143.4243 142.6315,-140.13 148.449,-148.9848 152.7012,-143.4243\"/>\n</g>\n<!-- 10 -->\n<g id=\"node7\" class=\"node\">\n<title>10</title>\n<polygon fill=\"#79bded\" stroke=\"#000000\" points=\"292,-140 176,-140 176,-72 292,-72 292,-140\"/>\n<text text-anchor=\"middle\" x=\"234\" y=\"-124.8\" font-family=\"Helvetica,sans-Serif\" font-size=\"14.00\" fill=\"#000000\">year &lt;= 75.5</text>\n<text text-anchor=\"middle\" x=\"234\" y=\"-109.8\" font-family=\"Helvetica,sans-Serif\" font-size=\"14.00\" fill=\"#000000\">gini = 0.37</text>\n<text text-anchor=\"middle\" x=\"234\" y=\"-94.8\" font-family=\"Helvetica,sans-Serif\" font-size=\"14.00\" fill=\"#000000\">samples = 53</text>\n<text text-anchor=\"middle\" x=\"234\" y=\"-79.8\" font-family=\"Helvetica,sans-Serif\" font-size=\"14.00\" fill=\"#000000\">value = [13, 40]</text>\n</g>\n<!-- 2&#45;&gt;10 -->\n<g id=\"edge6\" class=\"edge\">\n<title>2&#45;&gt;10</title>\n<path fill=\"none\" stroke=\"#000000\" d=\"M234,-175.9465C234,-167.776 234,-158.9318 234,-150.3697\"/>\n<polygon fill=\"#000000\" stroke=\"#000000\" points=\"237.5001,-150.13 234,-140.13 230.5001,-150.13 237.5001,-150.13\"/>\n</g>\n<!-- 4 -->\n<g id=\"node5\" class=\"node\">\n<title>4</title>\n<polygon fill=\"#c0c0c0\" stroke=\"#000000\" points=\"54,-36 0,-36 0,0 54,0 54,-36\"/>\n<text text-anchor=\"middle\" x=\"27\" y=\"-14.3\" font-family=\"Helvetica,sans-Serif\" font-size=\"14.00\" fill=\"#000000\">(...)</text>\n</g>\n<!-- 3&#45;&gt;4 -->\n<g id=\"edge4\" class=\"edge\">\n<title>3&#45;&gt;4</title>\n<path fill=\"none\" stroke=\"#000000\" d=\"M70.5495,-71.9769C63.0975,-62.7406 55.1459,-52.8851 48.1042,-44.1573\"/>\n<polygon fill=\"#000000\" stroke=\"#000000\" points=\"50.6809,-41.777 41.6776,-36.192 45.2329,-46.1725 50.6809,-41.777\"/>\n</g>\n<!-- 5 -->\n<g id=\"node6\" class=\"node\">\n<title>5</title>\n<polygon fill=\"#c0c0c0\" stroke=\"#000000\" points=\"126,-36 72,-36 72,0 126,0 126,-36\"/>\n<text text-anchor=\"middle\" x=\"99\" y=\"-14.3\" font-family=\"Helvetica,sans-Serif\" font-size=\"14.00\" fill=\"#000000\">(...)</text>\n</g>\n<!-- 3&#45;&gt;5 -->\n<g id=\"edge5\" class=\"edge\">\n<title>3&#45;&gt;5</title>\n<path fill=\"none\" stroke=\"#000000\" d=\"M98.3866,-71.9769C98.4829,-63.5023 98.5852,-54.5065 98.678,-46.3388\"/>\n<polygon fill=\"#000000\" stroke=\"#000000\" points=\"102.1793,-46.2311 98.7933,-36.192 95.1798,-46.1515 102.1793,-46.2311\"/>\n</g>\n<!-- 11 -->\n<g id=\"node8\" class=\"node\">\n<title>11</title>\n<polygon fill=\"#c0c0c0\" stroke=\"#000000\" points=\"202,-36 148,-36 148,0 202,0 202,-36\"/>\n<text text-anchor=\"middle\" x=\"175\" y=\"-14.3\" font-family=\"Helvetica,sans-Serif\" font-size=\"14.00\" fill=\"#000000\">(...)</text>\n</g>\n<!-- 10&#45;&gt;11 -->\n<g id=\"edge7\" class=\"edge\">\n<title>10&#45;&gt;11</title>\n<path fill=\"none\" stroke=\"#000000\" d=\"M211.1891,-71.9769C205.1242,-62.931 198.6612,-53.2913 192.9002,-44.6986\"/>\n<polygon fill=\"#000000\" stroke=\"#000000\" points=\"195.6728,-42.5488 187.1969,-36.192 189.8586,-46.447 195.6728,-42.5488\"/>\n</g>\n<!-- 18 -->\n<g id=\"node9\" class=\"node\">\n<title>18</title>\n<polygon fill=\"#c0c0c0\" stroke=\"#000000\" points=\"274,-36 220,-36 220,0 274,0 274,-36\"/>\n<text text-anchor=\"middle\" x=\"247\" y=\"-14.3\" font-family=\"Helvetica,sans-Serif\" font-size=\"14.00\" fill=\"#000000\">(...)</text>\n</g>\n<!-- 10&#45;&gt;18 -->\n<g id=\"edge8\" class=\"edge\">\n<title>10&#45;&gt;18</title>\n<path fill=\"none\" stroke=\"#000000\" d=\"M239.0261,-71.9769C240.2781,-63.5023 241.607,-54.5065 242.8136,-46.3388\"/>\n<polygon fill=\"#000000\" stroke=\"#000000\" points=\"246.3135,-46.5961 244.3126,-36.192 239.3886,-45.5731 246.3135,-46.5961\"/>\n</g>\n<!-- 28 -->\n<g id=\"node11\" class=\"node\">\n<title>28</title>\n<polygon fill=\"#bddef6\" stroke=\"#000000\" points=\"429.5,-140 310.5,-140 310.5,-72 429.5,-72 429.5,-140\"/>\n<text text-anchor=\"middle\" x=\"370\" y=\"-124.8\" font-family=\"Helvetica,sans-Serif\" font-size=\"14.00\" fill=\"#000000\">cylinders &lt;= 0.5</text>\n<text text-anchor=\"middle\" x=\"370\" y=\"-109.8\" font-family=\"Helvetica,sans-Serif\" font-size=\"14.00\" fill=\"#000000\">gini = 0.48</text>\n<text text-anchor=\"middle\" x=\"370\" y=\"-94.8\" font-family=\"Helvetica,sans-Serif\" font-size=\"14.00\" fill=\"#000000\">samples = 10</text>\n<text text-anchor=\"middle\" x=\"370\" y=\"-79.8\" font-family=\"Helvetica,sans-Serif\" font-size=\"14.00\" fill=\"#000000\">value = [4, 6]</text>\n</g>\n<!-- 27&#45;&gt;28 -->\n<g id=\"edge10\" class=\"edge\">\n<title>27&#45;&gt;28</title>\n<path fill=\"none\" stroke=\"#000000\" d=\"M404.9733,-175.9465C400.7085,-167.4169 396.0765,-158.153 391.6212,-149.2424\"/>\n<polygon fill=\"#000000\" stroke=\"#000000\" points=\"394.6677,-147.509 387.065,-140.13 388.4067,-150.6395 394.6677,-147.509\"/>\n</g>\n<!-- 39 -->\n<g id=\"node14\" class=\"node\">\n<title>39</title>\n<polygon fill=\"#e89152\" stroke=\"#000000\" points=\"546.5,-140 447.5,-140 447.5,-72 546.5,-72 546.5,-140\"/>\n<text text-anchor=\"middle\" x=\"497\" y=\"-124.8\" font-family=\"Helvetica,sans-Serif\" font-size=\"14.00\" fill=\"#000000\">year &lt;= 79.0</text>\n<text text-anchor=\"middle\" x=\"497\" y=\"-109.8\" font-family=\"Helvetica,sans-Serif\" font-size=\"14.00\" fill=\"#000000\">gini = 0.198</text>\n<text text-anchor=\"middle\" x=\"497\" y=\"-94.8\" font-family=\"Helvetica,sans-Serif\" font-size=\"14.00\" fill=\"#000000\">samples = 9</text>\n<text text-anchor=\"middle\" x=\"497\" y=\"-79.8\" font-family=\"Helvetica,sans-Serif\" font-size=\"14.00\" fill=\"#000000\">value = [8, 1]</text>\n</g>\n<!-- 27&#45;&gt;39 -->\n<g id=\"edge13\" class=\"edge\">\n<title>27&#45;&gt;39</title>\n<path fill=\"none\" stroke=\"#000000\" d=\"M446.5578,-175.9465C452.9032,-167.1475 459.8121,-157.5672 466.4236,-148.3993\"/>\n<polygon fill=\"#000000\" stroke=\"#000000\" points=\"469.3766,-150.2882 472.387,-140.13 463.6989,-146.1937 469.3766,-150.2882\"/>\n</g>\n<!-- 29 -->\n<g id=\"node12\" class=\"node\">\n<title>29</title>\n<polygon fill=\"#c0c0c0\" stroke=\"#000000\" points=\"348,-36 294,-36 294,0 348,0 348,-36\"/>\n<text text-anchor=\"middle\" x=\"321\" y=\"-14.3\" font-family=\"Helvetica,sans-Serif\" font-size=\"14.00\" fill=\"#000000\">(...)</text>\n</g>\n<!-- 28&#45;&gt;29 -->\n<g id=\"edge11\" class=\"edge\">\n<title>28&#45;&gt;29</title>\n<path fill=\"none\" stroke=\"#000000\" d=\"M351.0553,-71.9769C346.0714,-63.0262 340.7638,-53.4941 336.0175,-44.9703\"/>\n<polygon fill=\"#000000\" stroke=\"#000000\" points=\"339.0524,-43.2261 331.1296,-36.192 332.9366,-46.6316 339.0524,-43.2261\"/>\n</g>\n<!-- 30 -->\n<g id=\"node13\" class=\"node\">\n<title>30</title>\n<polygon fill=\"#c0c0c0\" stroke=\"#000000\" points=\"420,-36 366,-36 366,0 420,0 420,-36\"/>\n<text text-anchor=\"middle\" x=\"393\" y=\"-14.3\" font-family=\"Helvetica,sans-Serif\" font-size=\"14.00\" fill=\"#000000\">(...)</text>\n</g>\n<!-- 28&#45;&gt;30 -->\n<g id=\"edge12\" class=\"edge\">\n<title>28&#45;&gt;30</title>\n<path fill=\"none\" stroke=\"#000000\" d=\"M378.8924,-71.9769C381.1322,-63.4071 383.5114,-54.3043 385.6651,-46.0638\"/>\n<polygon fill=\"#000000\" stroke=\"#000000\" points=\"389.1028,-46.752 388.2453,-36.192 382.3303,-44.9819 389.1028,-46.752\"/>\n</g>\n<!-- 40 -->\n<g id=\"node15\" class=\"node\">\n<title>40</title>\n<polygon fill=\"#c0c0c0\" stroke=\"#000000\" points=\"493,-36 439,-36 439,0 493,0 493,-36\"/>\n<text text-anchor=\"middle\" x=\"466\" y=\"-14.3\" font-family=\"Helvetica,sans-Serif\" font-size=\"14.00\" fill=\"#000000\">(...)</text>\n</g>\n<!-- 39&#45;&gt;40 -->\n<g id=\"edge14\" class=\"edge\">\n<title>39&#45;&gt;40</title>\n<path fill=\"none\" stroke=\"#000000\" d=\"M485.0146,-71.9769C481.9621,-63.3119 478.7177,-54.102 475.7895,-45.7894\"/>\n<polygon fill=\"#000000\" stroke=\"#000000\" points=\"479.0323,-44.4609 472.4085,-36.192 472.43,-46.7868 479.0323,-44.4609\"/>\n</g>\n<!-- 41 -->\n<g id=\"node16\" class=\"node\">\n<title>41</title>\n<polygon fill=\"#c0c0c0\" stroke=\"#000000\" points=\"565,-36 511,-36 511,0 565,0 565,-36\"/>\n<text text-anchor=\"middle\" x=\"538\" y=\"-14.3\" font-family=\"Helvetica,sans-Serif\" font-size=\"14.00\" fill=\"#000000\">(...)</text>\n</g>\n<!-- 39&#45;&gt;41 -->\n<g id=\"edge15\" class=\"edge\">\n<title>39&#45;&gt;41</title>\n<path fill=\"none\" stroke=\"#000000\" d=\"M512.8517,-71.9769C516.9331,-63.2167 521.2741,-53.8995 525.1802,-45.5157\"/>\n<polygon fill=\"#000000\" stroke=\"#000000\" points=\"528.4735,-46.7346 529.5242,-36.192 522.1284,-43.7783 528.4735,-46.7346\"/>\n</g>\n<!-- 43 -->\n<g id=\"node18\" class=\"node\">\n<title>43</title>\n<polygon fill=\"#e5833c\" stroke=\"#000000\" points=\"748,-244 620,-244 620,-176 748,-176 748,-244\"/>\n<text text-anchor=\"middle\" x=\"684\" y=\"-228.8\" font-family=\"Helvetica,sans-Serif\" font-size=\"14.00\" fill=\"#000000\">weight &lt;= 2737.0</text>\n<text text-anchor=\"middle\" x=\"684\" y=\"-213.8\" font-family=\"Helvetica,sans-Serif\" font-size=\"14.00\" fill=\"#000000\">gini = 0.031</text>\n<text text-anchor=\"middle\" x=\"684\" y=\"-198.8\" font-family=\"Helvetica,sans-Serif\" font-size=\"14.00\" fill=\"#000000\">samples = 129</text>\n<text text-anchor=\"middle\" x=\"684\" y=\"-183.8\" font-family=\"Helvetica,sans-Serif\" font-size=\"14.00\" fill=\"#000000\">value = [127, 2]</text>\n</g>\n<!-- 42&#45;&gt;43 -->\n<g id=\"edge17\" class=\"edge\">\n<title>42&#45;&gt;43</title>\n<path fill=\"none\" stroke=\"#000000\" d=\"M684,-279.9465C684,-271.776 684,-262.9318 684,-254.3697\"/>\n<polygon fill=\"#000000\" stroke=\"#000000\" points=\"687.5001,-254.13 684,-244.13 680.5001,-254.13 687.5001,-254.13\"/>\n</g>\n<!-- 52 -->\n<g id=\"node25\" class=\"node\">\n<title>52</title>\n<polygon fill=\"#9ccef2\" stroke=\"#000000\" points=\"977.5,-244 878.5,-244 878.5,-176 977.5,-176 977.5,-244\"/>\n<text text-anchor=\"middle\" x=\"928\" y=\"-228.8\" font-family=\"Helvetica,sans-Serif\" font-size=\"14.00\" fill=\"#000000\">origin &lt;= 1.5</text>\n<text text-anchor=\"middle\" x=\"928\" y=\"-213.8\" font-family=\"Helvetica,sans-Serif\" font-size=\"14.00\" fill=\"#000000\">gini = 0.444</text>\n<text text-anchor=\"middle\" x=\"928\" y=\"-198.8\" font-family=\"Helvetica,sans-Serif\" font-size=\"14.00\" fill=\"#000000\">samples = 9</text>\n<text text-anchor=\"middle\" x=\"928\" y=\"-183.8\" font-family=\"Helvetica,sans-Serif\" font-size=\"14.00\" fill=\"#000000\">value = [3, 6]</text>\n</g>\n<!-- 42&#45;&gt;52 -->\n<g id=\"edge24\" class=\"edge\">\n<title>42&#45;&gt;52</title>\n<path fill=\"none\" stroke=\"#000000\" d=\"M742.1341,-289.2215C780.3379,-272.9379 830.1781,-251.6946 868.6295,-235.3055\"/>\n<polygon fill=\"#000000\" stroke=\"#000000\" points=\"870.319,-238.3901 878.1459,-231.2493 867.5743,-231.9506 870.319,-238.3901\"/>\n</g>\n<!-- 44 -->\n<g id=\"node19\" class=\"node\">\n<title>44</title>\n<polygon fill=\"#f2c09c\" stroke=\"#000000\" points=\"663.5,-140 564.5,-140 564.5,-72 663.5,-72 663.5,-140\"/>\n<text text-anchor=\"middle\" x=\"614\" y=\"-124.8\" font-family=\"Helvetica,sans-Serif\" font-size=\"14.00\" fill=\"#000000\">year &lt;= 76.0</text>\n<text text-anchor=\"middle\" x=\"614\" y=\"-109.8\" font-family=\"Helvetica,sans-Serif\" font-size=\"14.00\" fill=\"#000000\">gini = 0.444</text>\n<text text-anchor=\"middle\" x=\"614\" y=\"-94.8\" font-family=\"Helvetica,sans-Serif\" font-size=\"14.00\" fill=\"#000000\">samples = 3</text>\n<text text-anchor=\"middle\" x=\"614\" y=\"-79.8\" font-family=\"Helvetica,sans-Serif\" font-size=\"14.00\" fill=\"#000000\">value = [2, 1]</text>\n</g>\n<!-- 43&#45;&gt;44 -->\n<g id=\"edge18\" class=\"edge\">\n<title>43&#45;&gt;44</title>\n<path fill=\"none\" stroke=\"#000000\" d=\"M661.0794,-175.9465C655.2174,-167.2373 648.8402,-157.7626 642.727,-148.6801\"/>\n<polygon fill=\"#000000\" stroke=\"#000000\" points=\"645.4595,-146.4716 636.9721,-140.13 639.6524,-150.3802 645.4595,-146.4716\"/>\n</g>\n<!-- 47 -->\n<g id=\"node22\" class=\"node\">\n<title>47</title>\n<polygon fill=\"#e5823b\" stroke=\"#000000\" points=\"828,-140 682,-140 682,-72 828,-72 828,-140\"/>\n<text text-anchor=\"middle\" x=\"755\" y=\"-124.8\" font-family=\"Helvetica,sans-Serif\" font-size=\"14.00\" fill=\"#000000\">horsepower &lt;= 83.0</text>\n<text text-anchor=\"middle\" x=\"755\" y=\"-109.8\" font-family=\"Helvetica,sans-Serif\" font-size=\"14.00\" fill=\"#000000\">gini = 0.016</text>\n<text text-anchor=\"middle\" x=\"755\" y=\"-94.8\" font-family=\"Helvetica,sans-Serif\" font-size=\"14.00\" fill=\"#000000\">samples = 126</text>\n<text text-anchor=\"middle\" x=\"755\" y=\"-79.8\" font-family=\"Helvetica,sans-Serif\" font-size=\"14.00\" fill=\"#000000\">value = [125, 1]</text>\n</g>\n<!-- 43&#45;&gt;47 -->\n<g id=\"edge21\" class=\"edge\">\n<title>43&#45;&gt;47</title>\n<path fill=\"none\" stroke=\"#000000\" d=\"M707.2481,-175.9465C713.255,-167.1475 719.7955,-157.5672 726.0543,-148.3993\"/>\n<polygon fill=\"#000000\" stroke=\"#000000\" points=\"728.952,-150.3623 731.6997,-140.13 723.1707,-146.4155 728.952,-150.3623\"/>\n</g>\n<!-- 45 -->\n<g id=\"node20\" class=\"node\">\n<title>45</title>\n<polygon fill=\"#c0c0c0\" stroke=\"#000000\" points=\"638,-36 584,-36 584,0 638,0 638,-36\"/>\n<text text-anchor=\"middle\" x=\"611\" y=\"-14.3\" font-family=\"Helvetica,sans-Serif\" font-size=\"14.00\" fill=\"#000000\">(...)</text>\n</g>\n<!-- 44&#45;&gt;45 -->\n<g id=\"edge19\" class=\"edge\">\n<title>44&#45;&gt;45</title>\n<path fill=\"none\" stroke=\"#000000\" d=\"M612.8401,-71.9769C612.5512,-63.5023 612.2445,-54.5065 611.9661,-46.3388\"/>\n<polygon fill=\"#000000\" stroke=\"#000000\" points=\"615.459,-46.0669 611.6202,-36.192 608.463,-46.3054 615.459,-46.0669\"/>\n</g>\n<!-- 46 -->\n<g id=\"node21\" class=\"node\">\n<title>46</title>\n<polygon fill=\"#c0c0c0\" stroke=\"#000000\" points=\"710,-36 656,-36 656,0 710,0 710,-36\"/>\n<text text-anchor=\"middle\" x=\"683\" y=\"-14.3\" font-family=\"Helvetica,sans-Serif\" font-size=\"14.00\" fill=\"#000000\">(...)</text>\n</g>\n<!-- 44&#45;&gt;46 -->\n<g id=\"edge20\" class=\"edge\">\n<title>44&#45;&gt;46</title>\n<path fill=\"none\" stroke=\"#000000\" d=\"M640.6772,-71.9769C647.9193,-62.7406 655.6469,-52.8851 662.4903,-44.1573\"/>\n<polygon fill=\"#000000\" stroke=\"#000000\" points=\"665.3198,-46.221 668.7359,-36.192 659.8112,-41.9017 665.3198,-46.221\"/>\n</g>\n<!-- 48 -->\n<g id=\"node23\" class=\"node\">\n<title>48</title>\n<polygon fill=\"#c0c0c0\" stroke=\"#000000\" points=\"782,-36 728,-36 728,0 782,0 782,-36\"/>\n<text text-anchor=\"middle\" x=\"755\" y=\"-14.3\" font-family=\"Helvetica,sans-Serif\" font-size=\"14.00\" fill=\"#000000\">(...)</text>\n</g>\n<!-- 47&#45;&gt;48 -->\n<g id=\"edge22\" class=\"edge\">\n<title>47&#45;&gt;48</title>\n<path fill=\"none\" stroke=\"#000000\" d=\"M755,-71.9769C755,-63.5023 755,-54.5065 755,-46.3388\"/>\n<polygon fill=\"#000000\" stroke=\"#000000\" points=\"758.5001,-46.1919 755,-36.192 751.5001,-46.192 758.5001,-46.1919\"/>\n</g>\n<!-- 51 -->\n<g id=\"node24\" class=\"node\">\n<title>51</title>\n<polygon fill=\"#c0c0c0\" stroke=\"#000000\" points=\"854,-36 800,-36 800,0 854,0 854,-36\"/>\n<text text-anchor=\"middle\" x=\"827\" y=\"-14.3\" font-family=\"Helvetica,sans-Serif\" font-size=\"14.00\" fill=\"#000000\">(...)</text>\n</g>\n<!-- 47&#45;&gt;51 -->\n<g id=\"edge23\" class=\"edge\">\n<title>47&#45;&gt;51</title>\n<path fill=\"none\" stroke=\"#000000\" d=\"M782.8371,-71.9769C790.3941,-62.7406 798.4576,-52.8851 805.5986,-44.1573\"/>\n<polygon fill=\"#000000\" stroke=\"#000000\" points=\"808.4921,-46.1479 812.1157,-36.192 803.0744,-41.7152 808.4921,-46.1479\"/>\n</g>\n<!-- 53 -->\n<g id=\"node26\" class=\"node\">\n<title>53</title>\n<polygon fill=\"#f6d5bd\" stroke=\"#000000\" points=\"1010,-140 846,-140 846,-72 1010,-72 1010,-140\"/>\n<text text-anchor=\"middle\" x=\"928\" y=\"-124.8\" font-family=\"Helvetica,sans-Serif\" font-size=\"14.00\" fill=\"#000000\">displacement &lt;= 247.0</text>\n<text text-anchor=\"middle\" x=\"928\" y=\"-109.8\" font-family=\"Helvetica,sans-Serif\" font-size=\"14.00\" fill=\"#000000\">gini = 0.48</text>\n<text text-anchor=\"middle\" x=\"928\" y=\"-94.8\" font-family=\"Helvetica,sans-Serif\" font-size=\"14.00\" fill=\"#000000\">samples = 5</text>\n<text text-anchor=\"middle\" x=\"928\" y=\"-79.8\" font-family=\"Helvetica,sans-Serif\" font-size=\"14.00\" fill=\"#000000\">value = [3, 2]</text>\n</g>\n<!-- 52&#45;&gt;53 -->\n<g id=\"edge25\" class=\"edge\">\n<title>52&#45;&gt;53</title>\n<path fill=\"none\" stroke=\"#000000\" d=\"M928,-175.9465C928,-167.776 928,-158.9318 928,-150.3697\"/>\n<polygon fill=\"#000000\" stroke=\"#000000\" points=\"931.5001,-150.13 928,-140.13 924.5001,-150.13 931.5001,-150.13\"/>\n</g>\n<!-- 56 -->\n<g id=\"node29\" class=\"node\">\n<title>56</title>\n<polygon fill=\"#399de5\" stroke=\"#000000\" points=\"1127.5,-132.5 1028.5,-132.5 1028.5,-79.5 1127.5,-79.5 1127.5,-132.5\"/>\n<text text-anchor=\"middle\" x=\"1078\" y=\"-117.3\" font-family=\"Helvetica,sans-Serif\" font-size=\"14.00\" fill=\"#000000\">gini = 0.0</text>\n<text text-anchor=\"middle\" x=\"1078\" y=\"-102.3\" font-family=\"Helvetica,sans-Serif\" font-size=\"14.00\" fill=\"#000000\">samples = 4</text>\n<text text-anchor=\"middle\" x=\"1078\" y=\"-87.3\" font-family=\"Helvetica,sans-Serif\" font-size=\"14.00\" fill=\"#000000\">value = [0, 4]</text>\n</g>\n<!-- 52&#45;&gt;56 -->\n<g id=\"edge28\" class=\"edge\">\n<title>52&#45;&gt;56</title>\n<path fill=\"none\" stroke=\"#000000\" d=\"M977.1156,-175.9465C994.5912,-163.8301 1014.2038,-150.232 1031.4573,-138.2696\"/>\n<polygon fill=\"#000000\" stroke=\"#000000\" points=\"1033.4943,-141.1163 1039.718,-132.5422 1029.5058,-135.3637 1033.4943,-141.1163\"/>\n</g>\n<!-- 54 -->\n<g id=\"node27\" class=\"node\">\n<title>54</title>\n<polygon fill=\"#c0c0c0\" stroke=\"#000000\" points=\"941,-36 887,-36 887,0 941,0 941,-36\"/>\n<text text-anchor=\"middle\" x=\"914\" y=\"-14.3\" font-family=\"Helvetica,sans-Serif\" font-size=\"14.00\" fill=\"#000000\">(...)</text>\n</g>\n<!-- 53&#45;&gt;54 -->\n<g id=\"edge26\" class=\"edge\">\n<title>53&#45;&gt;54</title>\n<path fill=\"none\" stroke=\"#000000\" d=\"M922.5872,-71.9769C921.239,-63.5023 919.8079,-54.5065 918.5084,-46.3388\"/>\n<polygon fill=\"#000000\" stroke=\"#000000\" points=\"921.9219,-45.5178 916.8942,-36.192 915.0089,-46.6177 921.9219,-45.5178\"/>\n</g>\n<!-- 55 -->\n<g id=\"node28\" class=\"node\">\n<title>55</title>\n<polygon fill=\"#c0c0c0\" stroke=\"#000000\" points=\"1013,-36 959,-36 959,0 1013,0 1013,-36\"/>\n<text text-anchor=\"middle\" x=\"986\" y=\"-14.3\" font-family=\"Helvetica,sans-Serif\" font-size=\"14.00\" fill=\"#000000\">(...)</text>\n</g>\n<!-- 53&#45;&gt;55 -->\n<g id=\"edge27\" class=\"edge\">\n<title>53&#45;&gt;55</title>\n<path fill=\"none\" stroke=\"#000000\" d=\"M950.4243,-71.9769C956.3864,-62.931 962.7398,-53.2913 968.4032,-44.6986\"/>\n<polygon fill=\"#000000\" stroke=\"#000000\" points=\"971.429,-46.4677 974.0098,-36.192 965.5843,-42.6154 971.429,-46.4677\"/>\n</g>\n</g>\n</svg>\n"
          },
          "metadata": {},
          "execution_count": 120
        }
      ]
    },
    {
      "cell_type": "code",
      "source": [
        "from sklearn import preprocessing\n",
        "from sklearn.neural_network import MLPClassifier\n",
        "from sklearn.metrics import accuracy_score\n",
        "\n",
        "scaler = preprocessing.StandardScaler().fit(X_train)\n",
        "\n",
        "X_train_scaled = scaler.transform(X_train)\n",
        "X_test_scaled = scaler.transform(X_test)\n",
        "\n",
        "nn1 = MLPClassifier(hidden_layer_sizes=(7,2), max_iter=500, random_state=1234)\n",
        "nn2 = MLPClassifier(solver='lbfgs', hidden_layer_sizes=(5,3), max_iter=500, random_state=1234)\n",
        "nn1.fit(X_train_scaled, y_train)\n",
        "nn2.fit(X_train_scaled, y_train)\n",
        "pred1 = nn1.predict(X_test_scaled)\n",
        "pred2 = nn2.predict(X_test_scaled)\n",
        "\n",
        "print('Accuracy of First Model: ',accuracy_score(y_test,pred1))\n",
        "print('Accuracy of Second Model: ',accuracy_score(y_test,pred2))"
      ],
      "metadata": {
        "colab": {
          "base_uri": "https://localhost:8080/"
        },
        "id": "klobfRikLzio",
        "outputId": "aeeef766-6b11-4950-c91f-d889464ea0c5"
      },
      "execution_count": 130,
      "outputs": [
        {
          "output_type": "stream",
          "name": "stdout",
          "text": [
            "Accuracy of First Model:  0.8717948717948718\n",
            "Accuracy of Second Model:  0.8846153846153846\n"
          ]
        },
        {
          "output_type": "stream",
          "name": "stderr",
          "text": [
            "/usr/local/lib/python3.7/dist-packages/sklearn/neural_network/_multilayer_perceptron.py:623: ConvergenceWarning: Stochastic Optimizer: Maximum iterations (500) reached and the optimization hasn't converged yet.\n",
            "  sample_idx = shuffle(sample_idx, random_state=self._random_state)\n"
          ]
        }
      ]
    },
    {
      "cell_type": "markdown",
      "source": [
        "Different layer sizes did not effect the accuracy as much as the solver did. Granted the solver only bumped the performance by 1% when going from adam to lbfgs solver. The accuracy seems to be slightly less than the decision tree given the fact that we don't have too many values to predict with. These accuracy changes could be tied to overfitting when compared to decision trees."
      ],
      "metadata": {
        "id": "IPK8UJFURCfm"
      }
    },
    {
      "cell_type": "markdown",
      "source": [
        "## Summary\n",
        "\n",
        "Out of all three algorithsm tested, Decision Tree Algorithm performed the best. Logistic Regression got a decent accuracy at 89%, Decision Trees at 92%, and Neural Network at 88%. I believe Decision Tree performed the best due to the size of the dataset and how many parameters it has. Neural Networks typically shine where there are lots of parameters and smaller data sets to prevent overfitting. Logistic Regression struggled with nuance in the data, and could not fit to the curves of the data.\n",
        "\n",
        "I prefer Python over R, it's a lot easier to read and there's less technical jargon in terms of syntax. Instead of using 20 different symbols to specify what I'm targeting within a dataframe I can use a function and pass parameters. Python libraries also have great documentation and more flexibility when it comes to plotting."
      ],
      "metadata": {
        "id": "cVe8FGFTTOiD"
      }
    }
  ]
}