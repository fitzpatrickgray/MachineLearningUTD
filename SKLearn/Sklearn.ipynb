{
  "nbformat": 4,
  "nbformat_minor": 0,
  "metadata": {
    "colab": {
      "provenance": [],
      "collapsed_sections": []
    },
    "kernelspec": {
      "name": "python3",
      "display_name": "Python 3"
    },
    "language_info": {
      "name": "python"
    }
  },
  "cells": [
    {
      "cell_type": "markdown",
      "source": [
        "# SKlearn"
      ],
      "metadata": {
        "id": "xtYmUb6Ftm6z"
      }
    },
    {
      "cell_type": "code",
      "source": [
        "# Loading data\n",
        "import pandas as pd\n",
        "import numpy as np\n",
        "df = pd.read_csv('/content/Auto.csv')\n",
        "print(df.head())\n",
        "print('\\nDimensions of data frame:', df.shape)"
      ],
      "metadata": {
        "id": "87zLygBhtvI7",
        "colab": {
          "base_uri": "https://localhost:8080/"
        },
        "outputId": "57dfefac-f1c0-4d5c-934e-2dff3f3e2e21"
      },
      "execution_count": 180,
      "outputs": [
        {
          "output_type": "stream",
          "name": "stdout",
          "text": [
            "    mpg  cylinders  displacement  horsepower  weight  acceleration  year  \\\n",
            "0  18.0          8         307.0         130    3504          12.0  70.0   \n",
            "1  15.0          8         350.0         165    3693          11.5  70.0   \n",
            "2  18.0          8         318.0         150    3436          11.0  70.0   \n",
            "3  16.0          8         304.0         150    3433          12.0  70.0   \n",
            "4  17.0          8         302.0         140    3449           NaN  70.0   \n",
            "\n",
            "   origin                       name  \n",
            "0       1  chevrolet chevelle malibu  \n",
            "1       1          buick skylark 320  \n",
            "2       1         plymouth satellite  \n",
            "3       1              amc rebel sst  \n",
            "4       1                ford torino  \n",
            "\n",
            "Dimensions of data frame: (392, 9)\n"
          ]
        }
      ]
    },
    {
      "cell_type": "code",
      "source": [
        "# Data formatting and printing the new dimensions\n",
        "df = df.dropna()\n",
        "print('Dimensions of data frame after removing NAs',df.shape)"
      ],
      "metadata": {
        "colab": {
          "base_uri": "https://localhost:8080/"
        },
        "id": "T33tSWEmFV2w",
        "outputId": "ba3fbedc-787d-44c3-a93e-fcbd53863be8"
      },
      "execution_count": 181,
      "outputs": [
        {
          "output_type": "stream",
          "name": "stdout",
          "text": [
            "Dimensions of data frame after removing NAs (389, 9)\n"
          ]
        }
      ]
    },
    {
      "cell_type": "code",
      "source": [
        "# Convert data to compute correct type and then describe\n",
        "df = df.astype({'mpg':'int','displacement':'int','horsepower':'int','weight':'int','acceleration':'int','year':'int','name':'category'})\n",
        "df['mpg'].describe()"
      ],
      "metadata": {
        "colab": {
          "base_uri": "https://localhost:8080/"
        },
        "id": "yUnQ6Y3Cw0-1",
        "outputId": "fde7e682-fa90-43b8-9fc9-94a54d96aaa2"
      },
      "execution_count": 182,
      "outputs": [
        {
          "output_type": "execute_result",
          "data": {
            "text/plain": [
              "count    389.000000\n",
              "mean      23.326478\n",
              "std        7.756862\n",
              "min        9.000000\n",
              "25%       17.000000\n",
              "50%       23.000000\n",
              "75%       29.000000\n",
              "max       46.000000\n",
              "Name: mpg, dtype: float64"
            ]
          },
          "metadata": {},
          "execution_count": 182
        }
      ]
    },
    {
      "cell_type": "code",
      "source": [
        "df['weight'].describe()"
      ],
      "metadata": {
        "colab": {
          "base_uri": "https://localhost:8080/"
        },
        "id": "DjF9pdiW1mWn",
        "outputId": "b1262efd-b6bf-4b0d-ea95-94778ff71c6a"
      },
      "execution_count": 183,
      "outputs": [
        {
          "output_type": "execute_result",
          "data": {
            "text/plain": [
              "count     389.000000\n",
              "mean     2973.871465\n",
              "std       849.289375\n",
              "min      1613.000000\n",
              "25%      2223.000000\n",
              "50%      2800.000000\n",
              "75%      3613.000000\n",
              "max      5140.000000\n",
              "Name: weight, dtype: float64"
            ]
          },
          "metadata": {},
          "execution_count": 183
        }
      ]
    },
    {
      "cell_type": "code",
      "source": [
        "df['year'].describe()"
      ],
      "metadata": {
        "colab": {
          "base_uri": "https://localhost:8080/"
        },
        "id": "OqQOIM3X1meW",
        "outputId": "1277308e-a3db-4232-83c5-77d6fb9ef59a"
      },
      "execution_count": 184,
      "outputs": [
        {
          "output_type": "execute_result",
          "data": {
            "text/plain": [
              "count    389.000000\n",
              "mean      76.025707\n",
              "std        3.660088\n",
              "min       70.000000\n",
              "25%       73.000000\n",
              "50%       76.000000\n",
              "75%       79.000000\n",
              "max       82.000000\n",
              "Name: year, dtype: float64"
            ]
          },
          "metadata": {},
          "execution_count": 184
        }
      ]
    },
    {
      "cell_type": "markdown",
      "source": [
        "**Range** <br/>\n",
        "The range of each of these columns follows, mpgs is 9:46, weight is 1613:5140 and year is is 70:82"
      ],
      "metadata": {
        "id": "Zmf9iB-MEu2e"
      }
    },
    {
      "cell_type": "markdown",
      "source": [],
      "metadata": {
        "id": "Q2rpYoiNADEm"
      }
    },
    {
      "cell_type": "code",
      "source": [
        "df.cylinders = df.cylinders.astype('category').cat.codes\n",
        "df.origin = df.origin.astype('category')\n",
        "df.dtypes"
      ],
      "metadata": {
        "colab": {
          "base_uri": "https://localhost:8080/"
        },
        "id": "mW6GOzTX9SG_",
        "outputId": "425a46f7-88be-4578-c345-35a75eacb96b"
      },
      "execution_count": 185,
      "outputs": [
        {
          "output_type": "execute_result",
          "data": {
            "text/plain": [
              "mpg                int64\n",
              "cylinders           int8\n",
              "displacement       int64\n",
              "horsepower         int64\n",
              "weight             int64\n",
              "acceleration       int64\n",
              "year               int64\n",
              "origin          category\n",
              "name            category\n",
              "dtype: object"
            ]
          },
          "metadata": {},
          "execution_count": 185
        }
      ]
    },
    {
      "cell_type": "code",
      "source": [
        "import numpy as np\n",
        "df['mpg_high'] = np.where(df['mpg'] > 23.326478, 1, 0)\n",
        "df.drop('mpg', inplace=True, axis=1)\n",
        "df.drop('name', inplace=True, axis=1)\n",
        "print(df.head())"
      ],
      "metadata": {
        "colab": {
          "base_uri": "https://localhost:8080/"
        },
        "id": "MRnW2fVuF06K",
        "outputId": "118c9d47-dc54-4351-b756-98718aa40a0d"
      },
      "execution_count": 186,
      "outputs": [
        {
          "output_type": "stream",
          "name": "stdout",
          "text": [
            "   cylinders  displacement  horsepower  weight  acceleration  year origin  \\\n",
            "0          4           307         130    3504            12    70      1   \n",
            "1          4           350         165    3693            11    70      1   \n",
            "2          4           318         150    3436            11    70      1   \n",
            "3          4           304         150    3433            12    70      1   \n",
            "6          4           454         220    4354             9    70      1   \n",
            "\n",
            "   mpg_high  \n",
            "0         0  \n",
            "1         0  \n",
            "2         0  \n",
            "3         0  \n",
            "6         0  \n"
          ]
        }
      ]
    },
    {
      "cell_type": "code",
      "source": [
        "import seaborn as sns\n",
        "from matplotlib import pyplot as pl\n",
        "\n",
        "sns.catplot(data=df,x='mpg_high',kind='count')"
      ],
      "metadata": {
        "colab": {
          "base_uri": "https://localhost:8080/",
          "height": 386
        },
        "id": "8gY4yv-0Gb6y",
        "outputId": "ece1c832-e331-4844-f307-d920d6c53786"
      },
      "execution_count": 187,
      "outputs": [
        {
          "output_type": "execute_result",
          "data": {
            "text/plain": [
              "<seaborn.axisgrid.FacetGrid at 0x7f5705041250>"
            ]
          },
          "metadata": {},
          "execution_count": 187
        },
        {
          "output_type": "display_data",
          "data": {
            "text/plain": [
              "<Figure size 360x360 with 1 Axes>"
            ],
            "image/png": "[encoded data removed]"
          },
          "metadata": {
            "needs_background": "light"
          }
        }
      ]
    },
    {
      "cell_type": "code",
      "source": [
        "sns.relplot(data=df,x='horsepower',y='weight',hue='mpg_high')"
      ],
      "metadata": {
        "colab": {
          "base_uri": "https://localhost:8080/",
          "height": 386
        },
        "id": "xylYpmlutg3K",
        "outputId": "362835d9-7ee2-4268-d6c9-548313a8421e"
      },
      "execution_count": 188,
      "outputs": [
        {
          "output_type": "execute_result",
          "data": {
            "text/plain": [
              "<seaborn.axisgrid.FacetGrid at 0x7f57052a7790>"
            ]
          },
          "metadata": {},
          "execution_count": 188
        },
        {
          "output_type": "display_data",
          "data": {
            "text/plain": [
              "<Figure size 417.25x360 with 1 Axes>"
            ],
            "image/png": "[encoded data removed]"
          },
          "metadata": {
            "needs_background": "light"
          }
        }
      ]
    },
    {
      "cell_type": "code",
      "source": [
        "sns.boxplot(data=df,x='mpg_high',y='weight')"
      ],
      "metadata": {
        "colab": {
          "base_uri": "https://localhost:8080/",
          "height": 297
        },
        "id": "FwJ0Tc6Atg8w",
        "outputId": "6f9783fb-bbed-44c5-f58d-2ba5b86e6407"
      },
      "execution_count": 189,
      "outputs": [
        {
          "output_type": "execute_result",
          "data": {
            "text/plain": [
              "<matplotlib.axes._subplots.AxesSubplot at 0x7f5704ef8150>"
            ]
          },
          "metadata": {},
          "execution_count": 189
        },
        {
          "output_type": "display_data",
          "data": {
            "text/plain": [
              "<Figure size 432x288 with 1 Axes>"
            ],
            "image/png": "[encoded data removed]"
          },
          "metadata": {
            "needs_background": "light"
          }
        }
      ]
    },
    {
      "cell_type": "markdown",
      "source": [
        "One could assume from a given dataset that an even amount of samples would appear on either side of the mean. But with this dataset we see that there are in fact more cars with a lower mpg than the average. From the second graph we can observe that the less efficient cars are typically heavier and have higher horsepower. Inefficient cars also had a higher variance as seen from the third graph, explaining the uneven split relative to the mean."
      ],
      "metadata": {
        "id": "l4kTLSiqMHbo"
      }
    },
    {
      "cell_type": "code",
      "source": [
        "from sklearn.model_selection import train_test_split\n",
        "\n",
        "X = df.loc[:, ['cylinders', 'displacement', 'horsepower', 'weight', 'acceleration', 'year', 'origin']]\n",
        "y = df.mpg_high\n",
        "\n",
        "X_train, X_test, y_train, y_test = train_test_split(X, y, test_size=0.2, random_state=1234)\n",
        "print('Dimensions of train: ',X_train.shape)\n",
        "print('Dimensions of test: ',X_test.shape)"
      ],
      "metadata": {
        "id": "QDQyhQOFuEbK",
        "colab": {
          "base_uri": "https://localhost:8080/"
        },
        "outputId": "b5e8e630-4150-4c7b-b2eb-7767c1c97ce0"
      },
      "execution_count": 190,
      "outputs": [
        {
          "output_type": "stream",
          "name": "stdout",
          "text": [
            "Dimensions of train:  (311, 7)\n",
            "Dimensions of test:  (78, 7)\n"
          ]
        }
      ]
    },
    {
      "cell_type": "code",
      "source": [
        "from sklearn.linear_model import LogisticRegression\n",
        "from sklearn.metrics import classification_report, confusion_matrix\n",
        "\n",
        "lr = LogisticRegression(solver='lbfgs', random_state=1234)\n",
        "lr.fit(X_train, y_train)\n",
        "lr.score(X_train, y_train)\n",
        "\n",
        "pred = lr.predict(X_test)\n",
        "\n",
        "print('Classification Report:\\n',classification_report(y_test,pred),'\\nConfusion Matrix:')"
      ],
      "metadata": {
        "colab": {
          "base_uri": "https://localhost:8080/"
        },
        "id": "x7Ms2NxB58yP",
        "outputId": "18925b6f-d55a-4397-9f1b-82230a9211cd"
      },
      "execution_count": 191,
      "outputs": [
        {
          "output_type": "stream",
          "name": "stdout",
          "text": [
            "Classification Report:\n",
            "               precision    recall  f1-score   support\n",
            "\n",
            "           0       0.98      0.80      0.88        51\n",
            "           1       0.72      0.96      0.83        27\n",
            "\n",
            "    accuracy                           0.86        78\n",
            "   macro avg       0.85      0.88      0.85        78\n",
            "weighted avg       0.89      0.86      0.86        78\n",
            " \n",
            "Confusion Matrix:\n"
          ]
        }
      ]
    },
    {
      "cell_type": "code",
      "source": [
        "from sklearn.tree import DecisionTreeClassifier\n",
        "\n",
        "dt = DecisionTreeClassifier(random_state=1234)\n",
        "dt.fit(X_train, y_train)\n",
        "\n",
        "pred = dt.predict(X_test)\n",
        "\n",
        "print('Classification Report:\\n',classification_report(y_test,pred))"
      ],
      "metadata": {
        "colab": {
          "base_uri": "https://localhost:8080/"
        },
        "id": "QroAjBpk8Ui1",
        "outputId": "b815a925-db95-4865-e2a4-a282a4e183d4"
      },
      "execution_count": 192,
      "outputs": [
        {
          "output_type": "stream",
          "name": "stdout",
          "text": [
            "Classification Report:\n",
            "               precision    recall  f1-score   support\n",
            "\n",
            "           0       0.96      0.90      0.93        51\n",
            "           1       0.83      0.93      0.88        27\n",
            "\n",
            "    accuracy                           0.91        78\n",
            "   macro avg       0.90      0.91      0.90        78\n",
            "weighted avg       0.92      0.91      0.91        78\n",
            "\n"
          ]
        }
      ]
    },
    {
      "cell_type": "code",
      "source": [
        "from matplotlib import pyplot as plt\n",
        "import sklearn.tree\n",
        "import graphviz\n",
        "\n",
        "fig = plt.figure(figsize=(10,5))\n",
        "plot = tree.plot_tree(dt, feature_names=df.columns, filled=True, max_depth = 4)\n",
        "fig.savefig(\"decision_tree.png\")"
      ],
      "metadata": {
        "colab": {
          "base_uri": "https://localhost:8080/",
          "height": 303
        },
        "id": "nuAp0wvg8wCf",
        "outputId": "8b89c0b2-7ea0-48ba-8c15-62bca7ca949b"
      },
      "execution_count": 193,
      "outputs": [
        {
          "output_type": "display_data",
          "data": {
            "text/plain": [
              "<Figure size 720x360 with 1 Axes>"
            ],
            "image/png": "[encoded data removed]"
          },
          "metadata": {
            "needs_background": "light"
          }
        }
      ]
    },
    {
      "cell_type": "code",
      "source": [
        "from sklearn import preprocessing\n",
        "from sklearn.neural_network import MLPClassifier\n",
        "from sklearn.metrics import accuracy_score\n",
        "\n",
        "scaler = preprocessing.StandardScaler().fit(X_train)\n",
        "\n",
        "X_train_scaled = scaler.transform(X_train)\n",
        "X_test_scaled = scaler.transform(X_test)\n",
        "\n",
        "nn1 = MLPClassifier(hidden_layer_sizes=(7,2), max_iter=500, random_state=1234)\n",
        "nn2 = MLPClassifier(solver='lbfgs', hidden_layer_sizes=(5,3), max_iter=500, random_state=1234)\n",
        "nn1.fit(X_train_scaled, y_train)\n",
        "nn2.fit(X_train_scaled, y_train)\n",
        "pred1 = nn1.predict(X_test_scaled)\n",
        "pred2 = nn2.predict(X_test_scaled)\n",
        "\n",
        "print('Accuracy of First Model: ',accuracy_score(y_test,pred1))\n",
        "print('Accuracy of Second Model: ',accuracy_score(y_test,pred2))"
      ],
      "metadata": {
        "colab": {
          "base_uri": "https://localhost:8080/"
        },
        "id": "klobfRikLzio",
        "outputId": "e18f64ed-4e12-4ed4-cf8a-d48bf87f8689"
      },
      "execution_count": 194,
      "outputs": [
        {
          "output_type": "stream",
          "name": "stdout",
          "text": [
            "Accuracy of First Model:  0.8717948717948718\n",
            "Accuracy of Second Model:  0.8846153846153846\n"
          ]
        },
        {
          "output_type": "stream",
          "name": "stderr",
          "text": [
            "/usr/local/lib/python3.7/dist-packages/sklearn/neural_network/_multilayer_perceptron.py:641: ConvergenceWarning: Stochastic Optimizer: Maximum iterations (500) reached and the optimization hasn't converged yet.\n",
            "  intercept_grads,\n"
          ]
        }
      ]
    },
    {
      "cell_type": "markdown",
      "source": [
        "Different layer sizes did not effect the accuracy as much as the solver did. Granted the solver only bumped the performance by 1% when going from adam to lbfgs solver. The accuracy seems to be slightly less than the decision tree given the fact that we don't have too many values to predict with. These accuracy changes could be tied to overfitting when compared to decision trees."
      ],
      "metadata": {
        "id": "IPK8UJFURCfm"
      }
    },
    {
      "cell_type": "markdown",
      "source": [
        "## Summary\n",
        "\n",
        "Out of all three algorithsm tested, Decision Tree Algorithm performed the best. Logistic Regression got a decent accuracy at 89%, Decision Trees at 92%, and Neural Network at 88%. I believe Decision Tree performed the best due to the size of the dataset and how many parameters it has. Neural Networks typically shine where there are lots of parameters and smaller data sets to prevent overfitting. Logistic Regression struggled with nuance in the data, and could not fit to the curves of the data.\n",
        "\n",
        "I prefer Python over R, it's a lot easier to read and there's less technical jargon in terms of syntax. Instead of using 20 different symbols to specify what I'm targeting within a dataframe I can use a function and pass parameters. Python libraries also have great documentation and more flexibility when it comes to plotting."
      ],
      "metadata": {
        "id": "cVe8FGFTTOiD"
      }
    }
  ]
}